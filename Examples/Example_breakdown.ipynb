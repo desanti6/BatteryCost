{
 "cells": [
  {
   "cell_type": "markdown",
   "metadata": {},
   "source": [
    "In this example, we will study the overall breakdown of battery costs.  Following this, we will break down the costs of the materials into anode, cathode, electrolyte and other material components."
   ]
  },
  {
   "cell_type": "code",
   "execution_count": 5,
   "metadata": {},
   "outputs": [
    {
     "data": {
      "text/plain": [
       "writecell (generic function with 1 method)"
      ]
     },
     "metadata": {},
     "output_type": "display_data"
    }
   ],
   "source": [
    "include(\"../src/PBCM_IO.jl\")"
   ]
  },
  {
   "cell_type": "code",
   "execution_count": 9,
   "metadata": {},
   "outputs": [
    {
     "ename": "UndefVarError",
     "evalue": "UndefVarError: cell not defined",
     "output_type": "error",
     "traceback": [
      "UndefVarError: cell not defined\n",
      "\n",
      "Stacktrace:\n",
      "  [1] top-level scope\n",
      "    @ c:\\Users\\desan\\Documents\\GitHub\\Workspace\\BatteryCost\\Examples\\Example_breakdown.ipynb:3\n",
      "  [2] eval\n",
      "    @ .\\boot.jl:360 [inlined]\n",
      "  [3] include_string(mapexpr::typeof(REPL.softscope), mod::Module, code::String, filename::String)\n",
      "    @ Base .\\loading.jl:1116\n",
      "  [4] #invokelatest#2\n",
      "    @ .\\essentials.jl:708 [inlined]\n",
      "  [5] invokelatest\n",
      "    @ .\\essentials.jl:706 [inlined]\n",
      "  [6] (::VSCodeServer.var\"#146#147\"{VSCodeServer.NotebookRunCellArguments, String})()\n",
      "    @ VSCodeServer c:\\Users\\desan\\.vscode\\extensions\\julialang.language-julia-1.5.6\\scripts\\packages\\VSCodeServer\\src\\serve_notebook.jl:18\n",
      "  [7] withpath(f::VSCodeServer.var\"#146#147\"{VSCodeServer.NotebookRunCellArguments, String}, path::String)\n",
      "    @ VSCodeServer c:\\Users\\desan\\.vscode\\extensions\\julialang.language-julia-1.5.6\\scripts\\packages\\VSCodeServer\\src\\repl.jl:185\n",
      "  [8] notebook_runcell_request(conn::VSCodeServer.JSONRPC.JSONRPCEndpoint{Base.PipeEndpoint, Base.PipeEndpoint}, params::VSCodeServer.NotebookRunCellArguments)\n",
      "    @ VSCodeServer c:\\Users\\desan\\.vscode\\extensions\\julialang.language-julia-1.5.6\\scripts\\packages\\VSCodeServer\\src\\serve_notebook.jl:14\n",
      "  [9] dispatch_msg(x::VSCodeServer.JSONRPC.JSONRPCEndpoint{Base.PipeEndpoint, Base.PipeEndpoint}, dispatcher::VSCodeServer.JSONRPC.MsgDispatcher, msg::Dict{String, Any})\n",
      "    @ VSCodeServer.JSONRPC c:\\Users\\desan\\.vscode\\extensions\\julialang.language-julia-1.5.6\\scripts\\packages\\JSONRPC\\src\\typed.jl:67\n",
      " [10] serve_notebook(pipename::String; crashreporting_pipename::String)\n",
      "    @ VSCodeServer c:\\Users\\desan\\.vscode\\extensions\\julialang.language-julia-1.5.6\\scripts\\packages\\VSCodeServer\\src\\serve_notebook.jl:94\n",
      " [11] top-level scope\n",
      "    @ c:\\Users\\desan\\.vscode\\extensions\\julialang.language-julia-1.5.6\\scripts\\notebook\\notebook.jl:12\n",
      " [12] include(mod::Module, _path::String)\n",
      "    @ Base .\\Base.jl:384\n",
      " [13] exec_options(opts::Base.JLOptions)\n",
      "    @ Base .\\client.jl:285\n",
      " [14] _start()\n",
      "    @ Base .\\client.jl:485"
     ]
    }
   ],
   "source": [
    "# include(\"/Users/alecbills/cost_release/BatteryCost/src/PBCM.jl\")\n",
    "include(\"../src/PBCM_IO.jl\")\n",
    "cell1 = cell()\n",
    "cost1 = cost_default()\n",
    "cell1_converted,cost1_converted = convert_all(cell1,cost1,mult)\n",
    "\n",
    "cost1.general_costs.no_units_mfg = converter(80.0, mult.units_mfg)\n",
    "cost_kwh,thing = cost_calc(cell1,cost1)\n",
    "println(\"Cost/kWH: \",cost_kwh)\n",
    "breakdown_gen = cost_calc(cell1,cost1,breakdown=true)\n",
    "\n",
    "(total_unit_cost_all_materials  ,\n",
    "total_direct_labor_per_unit           ,\n",
    "variable_overhead_per_unit            ,\n",
    "GSA_per_unit                          ,\n",
    "R_and_D_per_unit                      ,\n",
    "depreciation_per_unit                 ,\n",
    "profits_after_taxes_per_unit          ,\n",
    "warrant_cost_per_unit                 ,\n",
    "cell_energy_storage) = breakdown_gen\n",
    "\n",
    "breakdown_vec = breakdown_gen[1:end-1]\n",
    "total_cost = sum(breakdown_vec)\n",
    "breakdown_percentages = breakdown_vec./total_cost\n",
    "breakdown_big_categories = zeros(4)\n",
    "breakdown_big_categories[1] = total_unit_cost_all_materials #Materials\n",
    "breakdown_big_categories[2] = total_direct_labor_per_unit #Direct Labor\n",
    "breakdown_big_categories[3] = variable_overhead_per_unit+GSA_per_unit+R_and_D_per_unit+profits_after_taxes_per_unit+warrant_cost_per_unit\n",
    "breakdown_big_categories[4] = depreciation_per_unit\n",
    "breakdown_big_categories = breakdown_big_categories./total_cost\n",
    "\n",
    "mat_breakdown= cost_calc(cell1,cost1,materials_breakdown = true)\n",
    "cathode_cost,anode_cost,electrolyte_cost,others_cost = mat_breakdown\n",
    "mat_normalized_breakdown = mat_breakdown./sum(mat_breakdown)\n",
    "\n",
    "using PyPlot\n",
    "\n",
    "figure(1)\n",
    "clf()\n",
    "pie(breakdown_big_categories,autopct=\"%1.1f%%\")\n",
    "legend([\"Materials\",\"Labor\",\"Overhead\",\"Depreciation\"])\n",
    "\n",
    "figure(2)\n",
    "clf()\n",
    "plot(rand(25))\n",
    "#pie(mat_normalized_breakdown,autopct=\"%1.1f%%\")\n",
    "legend([\"Cathode\",\"Anode\",\"Electrolyte\",\"Other\"])\n"
   ]
  },
  {
   "cell_type": "markdown",
   "metadata": {},
   "source": [
    "The two figures above shows a significant portion of cell cost is contributed by materials, among which the largest share comes from cathode materials. This factor drives the manufacturers to use cathode materials with lower cobalt content and utilize the recovered battery materials from recycling processes.\n",
    "\n",
    "The overall cost breakdown indicates that materials cost is a major contributor of cells cost, follows by overhead, then depreciation, finally, labor cost. One of the focuses of battery manufacturers' R&D is battery materials. With the development of implementation of new and better materials, the energy density, safety and life of batteries are improved. The materials cost breakdown function helps to visualize the battery materials cost, reflecting the trade-off between performance and cost."
   ]
  }
 ],
 "metadata": {
  "kernelspec": {
   "display_name": "Julia 1.6.4",
   "language": "julia",
   "name": "julia-1.6"
  },
  "language_info": {
   "file_extension": ".jl",
   "mimetype": "application/julia",
   "name": "julia",
   "version": "1.6.4"
  }
 },
 "nbformat": 4,
 "nbformat_minor": 4
}
