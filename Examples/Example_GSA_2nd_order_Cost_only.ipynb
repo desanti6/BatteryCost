{
 "cells": [
  {
   "cell_type": "markdown",
   "metadata": {},
   "source": [
    "In this example, we will conduct a second order Global Sensitivity Analysis (GSA) on total cell cost to cell\n",
    "components cost. Second order GSA assesses the cost by considering one factor and it also considers the \n",
    "coupling effects or interactioneffects between the various input parameters."
   ]
  },
  {
   "cell_type": "code",
   "execution_count": 4,
   "metadata": {},
   "outputs": [
    {
     "name": "stderr",
     "output_type": "stream",
     "text": [
      "WARNING: replacing module BatteryCost.\n"
     ]
    },
    {
     "data": {
      "text/plain": [
       "convert_all (generic function with 1 method)"
      ]
     },
     "metadata": {},
     "output_type": "display_data"
    }
   ],
   "source": [
    "include(\"../src/BatteryCost.jl\")\n",
    "include(\"../src/Cell_Designer.jl\")\n",
    "include(\"../src/Cost_Inputs_Taxonomy.jl\")\n",
    "include(\"../src/Cost_Summary.jl\")\n",
    "include(\"../src/default_constructors.jl\")\n",
    "include(\"../src/Manufacturing_Cost_Calculations.jl\")\n",
    "include(\"../src/PBCM_IO.jl\")\n",
    "include(\"../src/Units.jl\")"
   ]
  },
  {
   "cell_type": "code",
   "execution_count": 5,
   "metadata": {},
   "outputs": [
    {
     "ename": "ArgumentError",
     "evalue": "ArgumentError: Package DiffEqSensitivity not found in current path:\n- Run `import Pkg; Pkg.add(\"DiffEqSensitivity\")` to install the DiffEqSensitivity package.\n",
     "output_type": "error",
     "traceback": [
      "ArgumentError: Package DiffEqSensitivity not found in current path:\n",
      "- Run `import Pkg; Pkg.add(\"DiffEqSensitivity\")` to install the DiffEqSensitivity package.\n",
      "\n",
      "\n",
      "Stacktrace:\n",
      "  [1] require(into::Module, mod::Symbol)\n",
      "    @ Base .\\loading.jl:893\n",
      "  [2] eval\n",
      "    @ .\\boot.jl:360 [inlined]\n",
      "  [3] include_string(mapexpr::typeof(REPL.softscope), mod::Module, code::String, filename::String)\n",
      "    @ Base .\\loading.jl:1116\n",
      "  [4] #invokelatest#2\n",
      "    @ .\\essentials.jl:708 [inlined]\n",
      "  [5] invokelatest\n",
      "    @ .\\essentials.jl:706 [inlined]\n",
      "  [6] (::VSCodeServer.var\"#146#147\"{VSCodeServer.NotebookRunCellArguments, String})()\n",
      "    @ VSCodeServer c:\\Users\\desan\\.vscode\\extensions\\julialang.language-julia-1.5.6\\scripts\\packages\\VSCodeServer\\src\\serve_notebook.jl:18\n",
      "  [7] withpath(f::VSCodeServer.var\"#146#147\"{VSCodeServer.NotebookRunCellArguments, String}, path::String)\n",
      "    @ VSCodeServer c:\\Users\\desan\\.vscode\\extensions\\julialang.language-julia-1.5.6\\scripts\\packages\\VSCodeServer\\src\\repl.jl:185\n",
      "  [8] notebook_runcell_request(conn::VSCodeServer.JSONRPC.JSONRPCEndpoint{Base.PipeEndpoint, Base.PipeEndpoint}, params::VSCodeServer.NotebookRunCellArguments)\n",
      "    @ VSCodeServer c:\\Users\\desan\\.vscode\\extensions\\julialang.language-julia-1.5.6\\scripts\\packages\\VSCodeServer\\src\\serve_notebook.jl:14\n",
      "  [9] dispatch_msg(x::VSCodeServer.JSONRPC.JSONRPCEndpoint{Base.PipeEndpoint, Base.PipeEndpoint}, dispatcher::VSCodeServer.JSONRPC.MsgDispatcher, msg::Dict{String, Any})\n",
      "    @ VSCodeServer.JSONRPC c:\\Users\\desan\\.vscode\\extensions\\julialang.language-julia-1.5.6\\scripts\\packages\\JSONRPC\\src\\typed.jl:67\n",
      " [10] serve_notebook(pipename::String; crashreporting_pipename::String)\n",
      "    @ VSCodeServer c:\\Users\\desan\\.vscode\\extensions\\julialang.language-julia-1.5.6\\scripts\\packages\\VSCodeServer\\src\\serve_notebook.jl:94\n",
      " [11] top-level scope\n",
      "    @ c:\\Users\\desan\\.vscode\\extensions\\julialang.language-julia-1.5.6\\scripts\\notebook\\notebook.jl:12\n",
      " [12] include(mod::Module, _path::String)\n",
      "    @ Base .\\Base.jl:384\n",
      " [13] exec_options(opts::Base.JLOptions)\n",
      "    @ Base .\\client.jl:285\n",
      " [14] _start()\n",
      "    @ Base .\\client.jl:485"
     ]
    }
   ],
   "source": [
    "\n",
    "cell_general = cell()\n",
    "cell_design_op = cylindrical_cell_designer(cell_general)\n",
    "cost = cost_default()\n",
    "cell_general, cost = convert_all(cell_general, cost, mult)\n",
    "\n",
    "\n",
    "using DiffEqSensitivity\n",
    "using PyPlot\n",
    "\n",
    "per = 30\n",
    "\n",
    "no_cells_yr = 10\n",
    "no_cells_yr_intrvl = [no_cells_yr*(1 - (per/100)) , no_cells_yr*(1 + (per/100))]\n",
    "\n",
    "cost_pos_AM = 18.0\n",
    "cost_pos_AM_intrvl = [cost_pos_AM*(1 - (per/100)) , cost_pos_AM*(1 + (per/100))]\n",
    "\n",
    "cost_neg_AM = 12.5\n",
    "cost_neg_AM_intrvl = [cost_neg_AM*(1 - (per/100)) , cost_neg_AM*(1 + (per/100))]\n",
    "\n",
    "cost_sep = 1.1\n",
    "cost_sep_intrvl    = [cost_sep  * (1 - (per/100)) , cost_sep * (1  + (per/100))]\n",
    "\n",
    "function gsa_cost(arr)\n",
    "\n",
    "    cost.general_costs.no_units_mfg   = converter(arr[1], mult.units_mfg)\n",
    "    cost.cell_costs.cathode.AM[1]     = arr[2]\n",
    "    cost.cell_costs.anode.AM[1]       = arr[3]\n",
    "    cost.cell_costs.seperator_cost[1] = arr[4]\n",
    "\n",
    "    dollars_kWh = cost_calc(cell_general, cost, system=\"Cell\", cost_verbosity=0)[1]\n",
    "\n",
    "    return dollars_kWh\n",
    "end\n",
    "\n",
    "# gsa_cost([0.25, 150.0, 130.0, 25.0, 19.0])\n",
    "\n",
    "gsa_result = gsa(gsa_cost, Sobol(order = [2]), [no_cells_yr_intrvl, cost_pos_AM_intrvl, cost_neg_AM_intrvl, cost_sep_intrvl], N = 10000)\n",
    "\n",
    "\n",
    "x = [0, 1, 2, 3, 1, 2, 3, 2, 3, 3]\n",
    "y = [0, 0, 0, 0, 1, 1, 1, 2, 2, 3]\n",
    "\n",
    "print(\"\\n\")\n",
    "S1 = gsa_result.S1\n",
    "S2 = gsa_result.S2\n",
    "print(S1)\n",
    "print(S2)\n",
    "\n",
    "z = [S1[1],S2[1],S2[2],S2[3],S1[2],S2[4],S2[5],S1[3],S2[6],S1[4]]\n",
    "clf()\n",
    "r = bar3D(x, y, z*0, 0.4, 0.4, z)\n",
    "xticks([0,1,2,3], [\"No Cells\",\"Cost Pos AM\", \"Cost Neg AM\", \"Cost Sep\"])\n",
    "yticks([1,2,3,4], [\"No Cells\",\"Cost Pos AM\", \"Cost Neg AM\", \"Cost Sep\"])\n",
    "\n",
    "title(string(\"GSA: 2nd Order: \", per, \"%\"))\n",
    "zlabel(\"Sobol Indices\")\n",
    "figure(2)"
   ]
  },
  {
   "cell_type": "markdown",
   "metadata": {},
   "source": [
    "The battery supply chain is quite complex and there are the prices are volatile. The plot above shows the sensitivity of cell cost to the prices of cell components, which helps battery manufacturers better identify the critical components and manage their supply chain. "
   ]
  }
 ],
 "metadata": {
  "kernelspec": {
   "display_name": "Julia 1.6.4",
   "language": "julia",
   "name": "julia-1.6"
  },
  "language_info": {
   "file_extension": ".jl",
   "mimetype": "application/julia",
   "name": "julia",
   "version": "1.6.4"
  }
 },
 "nbformat": 4,
 "nbformat_minor": 4
}
